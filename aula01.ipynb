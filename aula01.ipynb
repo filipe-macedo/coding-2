{
 "cells": [
  {
   "cell_type": "code",
   "execution_count": 5,
   "metadata": {},
   "outputs": [
    {
     "name": "stdout",
     "output_type": "stream",
     "text": [
      "O numero é par.\n"
     ]
    }
   ],
   "source": [
    "numero = int(input(\"digite um numero: \"))\n",
    "\n",
    "if numero % 2 == 0:\n",
    "    print(\"O numero é par.\")\n",
    "else:\n",
    "    print(\"O numero é impar.\")"
   ]
  },
  {
   "cell_type": "code",
   "execution_count": 4,
   "metadata": {},
   "outputs": [
    {
     "name": "stdout",
     "output_type": "stream",
     "text": [
      "Desconto de 15%\n"
     ]
    }
   ],
   "source": [
    "cupom = input(\"Digite o cupom: \")\n",
    "\n",
    "if cupom == \"aula1\":\n",
    "    print (\"Desconto de 15%\")\n",
    "elif cupom == \"aula2\":\n",
    "     print (\"Desconto de 10%\")\n",
    "else:\n",
    "    print (\"Desconto de 5%\")"
   ]
  },
  {
   "cell_type": "code",
   "execution_count": 6,
   "metadata": {},
   "outputs": [
    {
     "name": "stdout",
     "output_type": "stream",
     "text": [
      "Sua atividade é: Netflix\n"
     ]
    }
   ],
   "source": [
    "sol = input(\"Tem sol? (sim/não): \")\n",
    "money = input(\"Tem dinheiro? (sim/não): \")\n",
    " \n",
    "atividade = \"Praia\" if sol == \"sim\" and money == \"sim\" else \"Netflix\"\n",
    " \n",
    "print(\"Sua atividade é:\", atividade)"
   ]
  },
  {
   "cell_type": "code",
   "execution_count": 7,
   "metadata": {},
   "outputs": [
    {
     "name": "stdout",
     "output_type": "stream",
     "text": [
      "Vá para a praia!\n"
     ]
    }
   ],
   "source": [
    "sol = input(\"Tem sol? (sim/não): \") == \"sim\"\n",
    "dinheiro = input(\"Tem dinheiro? (sim/não): \") == \"sim\"\n",
    "\n",
    "if sol or dinheiro:\n",
    "    print(\"Vá para a praia!\")\n",
    "else:\n",
    "    print(\"Assista Netflix.\")\n"
   ]
  },
  {
   "cell_type": "code",
   "execution_count": 8,
   "metadata": {},
   "outputs": [],
   "source": [
    "sol = input(\"Tem sol? (sim/não): \")\n",
    "dinheiro = input(\"Tem dinheiro? (sim/não): \")\n",
    "\n",
    "if sol == \"sim\":\n",
    "    if dinheiro == \"sim\":\n",
    "        print(\"Vá para a praia!\")    \n",
    "\n",
    "else:\n",
    "    print(\"Assista Netflix.\")"
   ]
  },
  {
   "cell_type": "code",
   "execution_count": null,
   "metadata": {},
   "outputs": [],
   "source": [
    "# Pergunta ao usuário sobre sol e dinheiro pela terceira vez kk\n",
    "sol = input(\"Você tem sol? (sim/não): \")\n",
    "money = input(\"Você tem dinheiro? (sim/não): \")\n",
    " \n",
    "if sol == \"sim\":\n",
    "if money == \"sim\":\n",
    "role = \"Praia\"\n",
    "else:\n",
    "role = \"Netflix\"\n",
    "else:\n",
    "role = \"Netflix\"\n",
    " \n",
    "# Printa o resultado sem o f maldito obg alura\n",
    "print(\"O seu rolê é:\", role)"
   ]
  },
  {
   "cell_type": "code",
   "execution_count": 12,
   "metadata": {},
   "outputs": [
    {
     "name": "stdout",
     "output_type": "stream",
     "text": [
      "O imposto a ser pago é: R$ 45.0\n"
     ]
    }
   ],
   "source": [
    "ano = int(input(\"Digite o ano do carro: \"))\n",
    "preco = float(input(\"Digite o valor do carro (R$): \"))\n",
    "\n",
    "if ano < 1990:\n",
    "    taxa = 0.01\n",
    "else:\n",
    "    taxa = 0.015\n",
    "\n",
    "imposto = preco * taxa\n",
    "\n",
    "print(\"O imposto a ser pago é: R$\", imposto)"
   ]
  }
 ],
 "metadata": {
  "kernelspec": {
   "display_name": "Python 3",
   "language": "python",
   "name": "python3"
  },
  "language_info": {
   "codemirror_mode": {
    "name": "ipython",
    "version": 3
   },
   "file_extension": ".py",
   "mimetype": "text/x-python",
   "name": "python",
   "nbconvert_exporter": "python",
   "pygments_lexer": "ipython3",
   "version": "3.12.3"
  }
 },
 "nbformat": 4,
 "nbformat_minor": 2
}
